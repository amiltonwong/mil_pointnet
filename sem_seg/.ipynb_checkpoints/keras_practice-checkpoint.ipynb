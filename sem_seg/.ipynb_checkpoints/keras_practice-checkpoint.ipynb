{
 "cells": [
  {
   "cell_type": "code",
   "execution_count": 1,
   "metadata": {},
   "outputs": [
    {
     "name": "stderr",
     "output_type": "stream",
     "text": [
      "Using TensorFlow backend.\n"
     ]
    },
    {
     "data": {
      "text/plain": [
       "'2.0.2'"
      ]
     },
     "execution_count": 1,
     "metadata": {},
     "output_type": "execute_result"
    }
   ],
   "source": [
    "import keras\n",
    "keras.__version__"
   ]
  },
  {
   "cell_type": "code",
   "execution_count": 3,
   "metadata": {},
   "outputs": [],
   "source": [
    "from keras.models import Model\n",
    "from keras.layers import Input, Conv2D, MaxPool2D, Flatten, Dense, Dropout"
   ]
  },
  {
   "cell_type": "code",
   "execution_count": 5,
   "metadata": {},
   "outputs": [],
   "source": [
    "import numpy as np"
   ]
  },
  {
   "cell_type": "code",
   "execution_count": null,
   "metadata": {},
   "outputs": [],
   "source": [
    "# (24, 4096, 9, 1)"
   ]
  },
  {
   "cell_type": "code",
   "execution_count": 6,
   "metadata": {},
   "outputs": [],
   "source": [
    "# create random matrixinput\n",
    "x_train = np.random.random(size=(24,4096,9,1))"
   ]
  },
  {
   "cell_type": "code",
   "execution_count": 9,
   "metadata": {},
   "outputs": [],
   "source": [
    "# construct net\n",
    "# conv(64)->conv(64)->conv(64)->conv(128)\n",
    "# define input\n",
    "input_pc = Input(shape=(4096,9,1))\n",
    "# 1st conv\n",
    "x = Conv2D(filters=64, kernel_size=(1,9), padding='valid', activation='relu')(input_pc)"
   ]
  },
  {
   "cell_type": "code",
   "execution_count": 10,
   "metadata": {},
   "outputs": [],
   "source": [
    "# 2nd conv\n",
    "x = Conv2D(filters=64, kernel_size=(1,1), padding='valid', activation='relu')(x)\n",
    "# 3rd conv\n",
    "x = Conv2D(filters=64, kernel_size=(1,1), padding='valid', activation='relu')(x)\n",
    "# 4th conv\n",
    "x = Conv2D(filters=128, kernel_size=(1,1), padding='valid', activation='relu')(x)"
   ]
  },
  {
   "cell_type": "code",
   "execution_count": 15,
   "metadata": {},
   "outputs": [],
   "source": [
    "# 5th conv, get points_feat1\n",
    "points_feat1 = Conv2D(filters=1024, kernel_size=(1,1), padding='valid', activation='relu')(x)"
   ]
  },
  {
   "cell_type": "code",
   "execution_count": 16,
   "metadata": {},
   "outputs": [],
   "source": [
    "# MAX-pooling, obtain  global feature for point_cloud, kernel_size=[4096,1]\n",
    "# \"global_feature\"\n",
    "pc_feat1 = MaxPool2D(pool_size=(4096,1), padding=\"valid\")(points_feat1)"
   ]
  },
  {
   "cell_type": "code",
   "execution_count": 18,
   "metadata": {},
   "outputs": [],
   "source": [
    "# Fully-Connected, batch_size=24\n",
    "#pc_feat1 = tf.reshape(pc_feat1, [batch_size, -1]) # similar to flatten the whole batch\n",
    "# flatten:\n",
    "pc_feat1 = Flatten()(pc_feat1)\n",
    "# fc1\n",
    "pc_feat1 = Dense(units=256, activation='relu')(pc_feat1)\n",
    "# fc2\n",
    "pc_feat1 = Dense(units=128, activation='relu')(pc_feat1)\n",
    "\n",
    "#pc_feat1 = tf_util.fully_connected(pc_feat1, 256, bn=True, is_training=is_training, scope='fc1', bn_decay=bn_decay)\n",
    "#pc_feat1 = tf_util.fully_connected(pc_feat1, 128, bn=True, is_training=is_training, scope='fc2', bn_decay=bn_decay)"
   ]
  },
  {
   "cell_type": "code",
   "execution_count": null,
   "metadata": {},
   "outputs": [],
   "source": [
    "# CONCAT \n",
    "# reshape back to (1,1,128)\n",
    "#pc_feat1_expand = tf.tile(tf.reshape(pc_feat1, [batch_size, 1, 1, -1]), [1, num_point, 1, 1])\n",
    "#points_feat1_concat = tf.concat(axis=3, values=[points_feat1, pc_feat1_expand])"
   ]
  },
  {
   "cell_type": "code",
   "execution_count": 11,
   "metadata": {},
   "outputs": [],
   "source": [
    "model_0 = Model(input_pc, x)"
   ]
  },
  {
   "cell_type": "code",
   "execution_count": 14,
   "metadata": {},
   "outputs": [
    {
     "name": "stdout",
     "output_type": "stream",
     "text": [
      "_________________________________________________________________\n",
      "Layer (type)                 Output Shape              Param #   \n",
      "=================================================================\n",
      "input_2 (InputLayer)         (None, 4096, 9, 1)        0         \n",
      "_________________________________________________________________\n",
      "conv2d_4 (Conv2D)            (None, 4096, 1, 64)       640       \n",
      "_________________________________________________________________\n",
      "conv2d_5 (Conv2D)            (None, 4096, 1, 64)       4160      \n",
      "_________________________________________________________________\n",
      "conv2d_6 (Conv2D)            (None, 4096, 1, 64)       4160      \n",
      "_________________________________________________________________\n",
      "conv2d_7 (Conv2D)            (None, 4096, 1, 128)      8320      \n",
      "=================================================================\n",
      "Total params: 17,280.0\n",
      "Trainable params: 17,280.0\n",
      "Non-trainable params: 0.0\n",
      "_________________________________________________________________\n"
     ]
    }
   ],
   "source": [
    "model_0.summary()"
   ]
  },
  {
   "cell_type": "code",
   "execution_count": 17,
   "metadata": {},
   "outputs": [
    {
     "name": "stdout",
     "output_type": "stream",
     "text": [
      "_________________________________________________________________\n",
      "Layer (type)                 Output Shape              Param #   \n",
      "=================================================================\n",
      "input_2 (InputLayer)         (None, 4096, 9, 1)        0         \n",
      "_________________________________________________________________\n",
      "conv2d_4 (Conv2D)            (None, 4096, 1, 64)       640       \n",
      "_________________________________________________________________\n",
      "conv2d_5 (Conv2D)            (None, 4096, 1, 64)       4160      \n",
      "_________________________________________________________________\n",
      "conv2d_6 (Conv2D)            (None, 4096, 1, 64)       4160      \n",
      "_________________________________________________________________\n",
      "conv2d_7 (Conv2D)            (None, 4096, 1, 128)      8320      \n",
      "_________________________________________________________________\n",
      "conv2d_8 (Conv2D)            (None, 4096, 1, 1024)     132096    \n",
      "_________________________________________________________________\n",
      "max_pooling2d_1 (MaxPooling2 (None, 1, 1, 1024)        0         \n",
      "=================================================================\n",
      "Total params: 149,376.0\n",
      "Trainable params: 149,376.0\n",
      "Non-trainable params: 0.0\n",
      "_________________________________________________________________\n"
     ]
    }
   ],
   "source": [
    "model_1 = Model(input_pc, pc_feat1)\n",
    "model_1.summary()"
   ]
  },
  {
   "cell_type": "code",
   "execution_count": 19,
   "metadata": {},
   "outputs": [
    {
     "name": "stdout",
     "output_type": "stream",
     "text": [
      "_________________________________________________________________\n",
      "Layer (type)                 Output Shape              Param #   \n",
      "=================================================================\n",
      "input_2 (InputLayer)         (None, 4096, 9, 1)        0         \n",
      "_________________________________________________________________\n",
      "conv2d_4 (Conv2D)            (None, 4096, 1, 64)       640       \n",
      "_________________________________________________________________\n",
      "conv2d_5 (Conv2D)            (None, 4096, 1, 64)       4160      \n",
      "_________________________________________________________________\n",
      "conv2d_6 (Conv2D)            (None, 4096, 1, 64)       4160      \n",
      "_________________________________________________________________\n",
      "conv2d_7 (Conv2D)            (None, 4096, 1, 128)      8320      \n",
      "_________________________________________________________________\n",
      "conv2d_8 (Conv2D)            (None, 4096, 1, 1024)     132096    \n",
      "_________________________________________________________________\n",
      "max_pooling2d_1 (MaxPooling2 (None, 1, 1, 1024)        0         \n",
      "_________________________________________________________________\n",
      "flatten_1 (Flatten)          (None, 1024)              0         \n",
      "_________________________________________________________________\n",
      "dense_1 (Dense)              (None, 256)               262400    \n",
      "_________________________________________________________________\n",
      "dense_2 (Dense)              (None, 128)               32896     \n",
      "=================================================================\n",
      "Total params: 444,672.0\n",
      "Trainable params: 444,672.0\n",
      "Non-trainable params: 0.0\n",
      "_________________________________________________________________\n"
     ]
    }
   ],
   "source": [
    "model_2 = Model(input_pc, pc_feat1)\n",
    "model_2.summary()"
   ]
  },
  {
   "cell_type": "code",
   "execution_count": null,
   "metadata": {},
   "outputs": [],
   "source": [
    "pc_feat1 = tf_util.max_pool2d(inputs=points_feat1, kernel_size=[num_point,1], padding='VALID', scope='maxpool1')"
   ]
  },
  {
   "cell_type": "code",
   "execution_count": 4,
   "metadata": {},
   "outputs": [],
   "source": [
    "points_feat1 = tf_util.conv2d(inputs=net, num_output_channels=1024, kernel_size=[1,1], padding='VALID', stride=[1,1],\n",
    "                     bn=True, is_training=is_training, scope='conv5', bn_decay=bn_decay)"
   ]
  },
  {
   "cell_type": "code",
   "execution_count": null,
   "metadata": {},
   "outputs": [],
   "source": []
  }
 ],
 "metadata": {
  "kernelspec": {
   "display_name": "Python 2",
   "language": "python",
   "name": "python2"
  },
  "language_info": {
   "codemirror_mode": {
    "name": "ipython",
    "version": 2
   },
   "file_extension": ".py",
   "mimetype": "text/x-python",
   "name": "python",
   "nbconvert_exporter": "python",
   "pygments_lexer": "ipython2",
   "version": "2.7.14"
  },
  "widgets": {
   "state": {},
   "version": "1.1.2"
  }
 },
 "nbformat": 4,
 "nbformat_minor": 2
}
